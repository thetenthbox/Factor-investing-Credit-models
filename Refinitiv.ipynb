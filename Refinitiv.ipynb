{
 "cells": [
  {
   "cell_type": "markdown",
   "id": "368a1f09",
   "metadata": {},
   "source": [
    "# Factor Investing for fixed-income"
   ]
  },
  {
   "cell_type": "markdown",
   "id": "f68e4da3",
   "metadata": {},
   "source": [
    "### S. Balan, J.P. Maltais\n",
    "\n",
    "\n",
    "## Importing Libraries and installing Eikon"
   ]
  },
  {
   "cell_type": "code",
   "execution_count": 1,
   "id": "d6b1d1ab",
   "metadata": {},
   "outputs": [],
   "source": [
    "import eikon as ek  # the Eikon Python wrapper package\n",
    "import numpy as np  # NumPy\n",
    "import pandas as pd  # pandas\n",
    "import cufflinks as cf  # Cufflinks\n",
    "import configparser as cp\n",
    "import matplotlib.pyplot as mlp\n",
    "import numpy as np\n",
    "import statsmodels.api as sm"
   ]
  },
  {
   "cell_type": "code",
   "execution_count": 6,
   "id": "63f873b1",
   "metadata": {},
   "outputs": [
    {
     "data": {
      "text/plain": [
       "['eikon.cfg']"
      ]
     },
     "execution_count": 6,
     "metadata": {},
     "output_type": "execute_result"
    }
   ],
   "source": [
    "cfg = cp.ConfigParser()\n",
    "cfg.read('eikon.cfg')  # adjust for different file location"
   ]
  },
  {
   "cell_type": "code",
   "execution_count": 8,
   "id": "4849ac2b",
   "metadata": {},
   "outputs": [],
   "source": [
    "ek.set_app_key(cfg['eikon']['app_id'])"
   ]
  },
  {
   "cell_type": "markdown",
   "id": "d1d404e5",
   "metadata": {},
   "source": [
    "## Computing returns on 2Y Euro Benchmark"
   ]
  },
  {
   "cell_type": "code",
   "execution_count": 24,
   "id": "e7d92d10",
   "metadata": {},
   "outputs": [],
   "source": [
    "\n",
    "## Retrieve dataframe of stated Bund benchmark\n",
    "df, e = ek.get_data('EU2YT=RR', ['TR.MIDPRICE', 'TR.MIDPRICE.date', 'TR.FiFirstCouponDate',   \n",
    "                                     'TR.ASKPRICE', 'TR.BIDPRICE']\n",
    "                    , {'SDate':'2021-04-01','EDate':'2023-5-25','Frq':'D'})\n",
    "\n",
    "df = df.reset_index(drop=True)\n",
    "\n",
    "#Retrieving Coupon rate\n",
    "coupon_df, e = ek.get_data('EU2YT=RR', ['TR.ADF_COUPON']\n",
    "                    , {'SDate':'2021-01-01','EDate':'2023-5-25','Frq':'M'})\n",
    "yearly_coupon = coupon_df['Coupon'].iloc[0]\n",
    "\n",
    "##COMPUTATIONS BEGIN HERE\n",
    "\n",
    "\n",
    "#Applied Accrued interest based on coupon rate/365 days\n",
    "df['AccInterest'] = (yearly_coupon)/365\n",
    "df['AccInterest'].iloc[0] = 0\n",
    "\n",
    "#Accrued interest cummulated every day, day over day\n",
    "df['AccInterest'] = df['AccInterest'].cumsum()\n",
    "\n",
    "#Total value of a bond at day t = Mid Price at day t + all coupon (day basis) accrued until day t\n",
    "df['Total value'] = df['Mid Price'] + df['AccInterest']  ##UNSURE!!!\n",
    "\n",
    "\n",
    "# Return = Midprice at time t - Midprice at time t-30 + daily coupon accured until time t - till time t-30\n",
    "time_param = 30 #days\n",
    "df['Return'] = df['Mid Price'] - df['Mid Price'].shift(time_param) + (df['AccInterest'] - df['AccInterest'].shift(time_param))\n",
    "\n",
    "\n",
    "bund_ttr = df['Return']"
   ]
  },
  {
   "cell_type": "markdown",
   "id": "95d073ef",
   "metadata": {},
   "source": [
    "TTR of bund on day to day basis. We will fill NaN values later on"
   ]
  },
  {
   "cell_type": "code",
   "execution_count": 25,
   "id": "9b87bde2",
   "metadata": {},
   "outputs": [
    {
     "data": {
      "text/plain": [
       "0           NaN\n",
       "1           NaN\n",
       "2           NaN\n",
       "3           NaN\n",
       "4           NaN\n",
       "         ...   \n",
       "556   -0.195521\n",
       "557   -0.290521\n",
       "558   -0.025521\n",
       "559    0.068479\n",
       "560   -0.043521\n",
       "Name: Return, Length: 561, dtype: float64"
      ]
     },
     "execution_count": 25,
     "metadata": {},
     "output_type": "execute_result"
    }
   ],
   "source": [
    "bund_ttr"
   ]
  },
  {
   "cell_type": "markdown",
   "id": "234ac503",
   "metadata": {},
   "source": [
    "## Retrivieving monthly returns\n",
    "\n",
    "let's look at generating monthly returns of Intl Cons. Airlines Group"
   ]
  },
  {
   "cell_type": "code",
   "execution_count": 26,
   "id": "91ca4324",
   "metadata": {},
   "outputs": [],
   "source": [
    "#Retrieve data from Refintiv \n",
    "\n",
    "df, e = ek.get_data('ES232242345=', ['TR.MIDPRICE', 'TR.MIDPRICE.date', 'TR.FiFirstCouponDate', 'TR.ZSPREAD', \n",
    "                                     'TR.FIWorstCorpModDuration', 'TR.FiOptionAdjustedSpreadDuration',\n",
    "                                     'TR.ASKPRICE', 'TR.BIDPRICE', 'TR.MODIFIEDDURATION',\n",
    "                                    'TR.BENCHMARKSPREAD', 'TR.OPTIONADJUSTEDSPREADBID']\n",
    "                    , {'SDate':'2021-04-01','EDate':'2023-5-25','Frq':'D'})\n",
    "\n",
    "\n",
    "## We then convert the date strings to datetime format\n",
    "df['First Coupon Date'] = pd.to_datetime(df['First Coupon Date'], utc=True)\n",
    "df['Date'] = pd.to_datetime(df['Date'], utc=True)\n",
    "df['First Coupon Date'] = df['First Coupon Date'].fillna(df['First Coupon Date'].iloc[0])\n",
    "df['Worst Corp Mod Duration'] = df['Worst Corp Mod Duration'].fillna(df['Worst Corp Mod Duration'].iloc[0])\n",
    "\n",
    "\n",
    "### This is just dressing, doesn't change the result except make the DF a bit more detailed\n",
    "### for brevity. \n",
    "\n",
    "# Change the First coupon date column to 'Next coupon date'. We apply the function multiple times to reflect each coupon accrued date\n",
    "df.loc[df['Date'] > df['First Coupon Date'], 'First Coupon Date'] = df['First Coupon Date'] + pd.offsets.DateOffset(years=1)\n",
    "df.loc[df['Date'] > df['First Coupon Date'], 'First Coupon Date'] = df['First Coupon Date'] + pd.offsets.DateOffset(years=1)\n",
    "df.loc[df['Date'] > df['First Coupon Date'], 'First Coupon Date'] = df['First Coupon Date'] + pd.offsets.DateOffset(years=1)\n",
    "df = df.rename(columns={'First Coupon Date': 'NextCouponDate'})\n",
    "df = df.reset_index(drop=True)\n",
    "\n",
    "#Retrieving Coupon rate\n",
    "coupon_df, e = ek.get_data('ES232242345=', ['TR.ADF_COUPON']\n",
    "                    , {'SDate':'2021-01-01','EDate':'2023-5-25','Frq':'M'})\n",
    "coupon = coupon_df['Coupon'].iloc[0]\n",
    "\n",
    "\n",
    "\n",
    "\n",
    "\n",
    "\n"
   ]
  },
  {
   "cell_type": "markdown",
   "id": "9dc9989a",
   "metadata": {},
   "source": [
    "### Coupon Rate calculations"
   ]
  },
  {
   "cell_type": "code",
   "execution_count": 27,
   "id": "73e727cf",
   "metadata": {},
   "outputs": [],
   "source": [
    "#Applied Accrued interest based on coupon rate/365 days\n",
    "df['AccInterest'] = (coupon)/365\n",
    "\n",
    "##Accrued interest on day 1 is 0. \n",
    "df['AccInterest'].iloc[0] = 0\n",
    "\n",
    "#Accrued interest cummulated every day, day over day\n",
    "df['AccInterest'] = df['AccInterest'].cumsum()\n",
    "\n",
    "#Total value of a bond at day t = Mid Price at day t + all coupon (day basis) accrued until day t\n",
    "df['Total value'] = df['Mid Price'] + df['AccInterest']  ##UNSURE!!!\n",
    "\n",
    "\n"
   ]
  },
  {
   "cell_type": "markdown",
   "id": "f4269e68",
   "metadata": {},
   "source": [
    "### Returns calculations"
   ]
  },
  {
   "cell_type": "code",
   "execution_count": 28,
   "id": "87204ce4",
   "metadata": {},
   "outputs": [],
   "source": [
    "time_param = 30 #days\n",
    "\n",
    "# Return = Midprice at time t - Midprice at time t-30 + daily coupon accured until time t - till time t-30\n",
    "df['Return'] = df['Mid Price'] - df['Mid Price'].shift(time_param) + (df['AccInterest'] - df['AccInterest'].shift(time_param))\n",
    "##UNSURE!!!\n",
    "## This also means the Return fields stay empty for the first 30 days. \n",
    "\n",
    "\n",
    "# True excess return compared to bund\n",
    "df['TrueReturn'] = df['Return'] - bund_ttr\n"
   ]
  },
  {
   "cell_type": "markdown",
   "id": "81691a3e",
   "metadata": {},
   "source": [
    "### DTS and LTS\n",
    "\n",
    "Modified Duration is given by Refinitiv and is used as is:"
   ]
  },
  {
   "cell_type": "code",
   "execution_count": 29,
   "id": "74685201",
   "metadata": {},
   "outputs": [],
   "source": [
    "#Computing DTS. Paper mentions two ways. Claims DTS can be Option adjusted spread bid, or spread * some duration\n",
    "df['DTS'] = df['Z Spread']*df['Worst Corp Mod Duration']\n",
    "df['DTS'] = df['Option Adjusted Spread Bid']\n",
    "\n",
    "\n",
    "#LTS\n",
    "#df['LTS'] = df['Mid Price'] * ((df['Ask Price'].shift(time_param) - df['Bid Price'].shift(time_param) ) -  (df['Ask Price'] - df['Bid Price']) )\n",
    "df['LTS'] = df['Ask Price'] - df['Bid Price']\n"
   ]
  },
  {
   "cell_type": "markdown",
   "id": "6ed94328",
   "metadata": {},
   "source": [
    "## Data Preview\n",
    "\n",
    "Filling all NaN values"
   ]
  },
  {
   "cell_type": "code",
   "execution_count": 30,
   "id": "1f9c3a3f",
   "metadata": {},
   "outputs": [
    {
     "data": {
      "text/html": [
       "<div>\n",
       "<style scoped>\n",
       "    .dataframe tbody tr th:only-of-type {\n",
       "        vertical-align: middle;\n",
       "    }\n",
       "\n",
       "    .dataframe tbody tr th {\n",
       "        vertical-align: top;\n",
       "    }\n",
       "\n",
       "    .dataframe thead th {\n",
       "        text-align: right;\n",
       "    }\n",
       "</style>\n",
       "<table border=\"1\" class=\"dataframe\">\n",
       "  <thead>\n",
       "    <tr style=\"text-align: right;\">\n",
       "      <th></th>\n",
       "      <th>Return</th>\n",
       "      <th>Modified Duration</th>\n",
       "      <th>LTS</th>\n",
       "      <th>DTS</th>\n",
       "    </tr>\n",
       "  </thead>\n",
       "  <tbody>\n",
       "    <tr>\n",
       "      <th>0</th>\n",
       "      <td>0.000000</td>\n",
       "      <td>3.697</td>\n",
       "      <td>0.551</td>\n",
       "      <td>342.37</td>\n",
       "    </tr>\n",
       "    <tr>\n",
       "      <th>1</th>\n",
       "      <td>0.000000</td>\n",
       "      <td>3.697</td>\n",
       "      <td>0.551</td>\n",
       "      <td>342.07</td>\n",
       "    </tr>\n",
       "    <tr>\n",
       "      <th>2</th>\n",
       "      <td>0.000000</td>\n",
       "      <td>3.697</td>\n",
       "      <td>0.551</td>\n",
       "      <td>341.85</td>\n",
       "    </tr>\n",
       "    <tr>\n",
       "      <th>3</th>\n",
       "      <td>0.000000</td>\n",
       "      <td>3.702</td>\n",
       "      <td>0.555</td>\n",
       "      <td>321.75</td>\n",
       "    </tr>\n",
       "    <tr>\n",
       "      <th>4</th>\n",
       "      <td>0.000000</td>\n",
       "      <td>3.699</td>\n",
       "      <td>0.555</td>\n",
       "      <td>324.32</td>\n",
       "    </tr>\n",
       "    <tr>\n",
       "      <th>...</th>\n",
       "      <td>...</td>\n",
       "      <td>...</td>\n",
       "      <td>...</td>\n",
       "      <td>...</td>\n",
       "    </tr>\n",
       "    <tr>\n",
       "      <th>556</th>\n",
       "      <td>1.042027</td>\n",
       "      <td>1.727</td>\n",
       "      <td>0.334</td>\n",
       "      <td>136.19</td>\n",
       "    </tr>\n",
       "    <tr>\n",
       "      <th>557</th>\n",
       "      <td>0.871027</td>\n",
       "      <td>1.725</td>\n",
       "      <td>0.333</td>\n",
       "      <td>135.77</td>\n",
       "    </tr>\n",
       "    <tr>\n",
       "      <th>558</th>\n",
       "      <td>1.120027</td>\n",
       "      <td>1.724</td>\n",
       "      <td>0.334</td>\n",
       "      <td>121.01</td>\n",
       "    </tr>\n",
       "    <tr>\n",
       "      <th>559</th>\n",
       "      <td>0.899027</td>\n",
       "      <td>1.720</td>\n",
       "      <td>0.333</td>\n",
       "      <td>130.89</td>\n",
       "    </tr>\n",
       "    <tr>\n",
       "      <th>560</th>\n",
       "      <td>0.940027</td>\n",
       "      <td>1.712</td>\n",
       "      <td>0.331</td>\n",
       "      <td>124.91</td>\n",
       "    </tr>\n",
       "  </tbody>\n",
       "</table>\n",
       "<p>561 rows × 4 columns</p>\n",
       "</div>"
      ],
      "text/plain": [
       "       Return  Modified Duration    LTS     DTS\n",
       "0    0.000000              3.697  0.551  342.37\n",
       "1    0.000000              3.697  0.551  342.07\n",
       "2    0.000000              3.697  0.551  341.85\n",
       "3    0.000000              3.702  0.555  321.75\n",
       "4    0.000000              3.699  0.555  324.32\n",
       "..        ...                ...    ...     ...\n",
       "556  1.042027              1.727  0.334  136.19\n",
       "557  0.871027              1.725  0.333  135.77\n",
       "558  1.120027              1.724  0.334  121.01\n",
       "559  0.899027              1.720  0.333  130.89\n",
       "560  0.940027              1.712  0.331  124.91\n",
       "\n",
       "[561 rows x 4 columns]"
      ]
     },
     "execution_count": 30,
     "metadata": {},
     "output_type": "execute_result"
    }
   ],
   "source": [
    "df = df.fillna(0)\n",
    "df[['Return', 'Modified Duration','LTS', 'DTS']]"
   ]
  },
  {
   "cell_type": "markdown",
   "id": "ceb87c40",
   "metadata": {},
   "source": [
    "## Plotting performance and relative performance"
   ]
  },
  {
   "cell_type": "code",
   "execution_count": 31,
   "id": "8fd7d3dc",
   "metadata": {},
   "outputs": [
    {
     "data": {
      "text/plain": [
       "<AxesSubplot:>"
      ]
     },
     "execution_count": 31,
     "metadata": {},
     "output_type": "execute_result"
    },
    {
     "data": {
      "image/png": "[encoded data removed]",
      "text/plain": [
       "<Figure size 432x288 with 1 Axes>"
      ]
     },
     "metadata": {
      "needs_background": "light"
     },
     "output_type": "display_data"
    }
   ],
   "source": [
    "df['Return'].plot() #TTR of bond  in BLUE\n",
    "df['TrueReturn'].plot() #TTR of bond - TTR of benchmark  in YELLOW\n",
    "bund_ttr.plot() # in GREEN"
   ]
  },
  {
   "cell_type": "code",
   "execution_count": 32,
   "id": "3c355b69",
   "metadata": {},
   "outputs": [
    {
     "data": {
      "text/plain": [
       "<AxesSubplot:>"
      ]
     },
     "execution_count": 32,
     "metadata": {},
     "output_type": "execute_result"
    },
    {
     "data": {
      "image/png": "[encoded data removed]",
      "text/plain": [
       "<Figure size 432x288 with 1 Axes>"
      ]
     },
     "metadata": {
      "needs_background": "light"
     },
     "output_type": "display_data"
    }
   ],
   "source": [
    "df['LTS'].plot()"
   ]
  },
  {
   "cell_type": "markdown",
   "id": "230c9488",
   "metadata": {},
   "source": [
    "## Statistical analysis"
   ]
  },
  {
   "cell_type": "code",
   "execution_count": 33,
   "id": "7c89ed91",
   "metadata": {},
   "outputs": [
    {
     "name": "stdout",
     "output_type": "stream",
     "text": [
      "                            OLS Regression Results                            \n",
      "==============================================================================\n",
      "Dep. Variable:                 Return   R-squared:                       0.279\n",
      "Model:                            OLS   Adj. R-squared:                  0.275\n",
      "Method:                 Least Squares   F-statistic:                     71.72\n",
      "Date:                Sat, 08 Jul 2023   Prob (F-statistic):           3.12e-39\n",
      "Time:                        18:56:08   Log-Likelihood:                -1290.2\n",
      "No. Observations:                 561   AIC:                             2588.\n",
      "Df Residuals:                     557   BIC:                             2606.\n",
      "Df Model:                           3                                         \n",
      "Covariance Type:            nonrobust                                         \n",
      "==============================================================================\n",
      "                 coef    std err          t      P>|t|      [0.025      0.975]\n",
      "------------------------------------------------------------------------------\n",
      "const          6.7901      0.581     11.688      0.000       5.649       7.931\n",
      "x1            -0.4105      0.956     -0.429      0.668      -2.289       1.468\n",
      "x2            -0.0091      0.001    -12.944      0.000      -0.010      -0.008\n",
      "x3            -1.1713      0.259     -4.518      0.000      -1.681      -0.662\n",
      "==============================================================================\n",
      "Omnibus:                       59.725   Durbin-Watson:                   0.036\n",
      "Prob(Omnibus):                  0.000   Jarque-Bera (JB):               88.691\n",
      "Skew:                           0.740   Prob(JB):                     5.51e-20\n",
      "Kurtosis:                       4.266   Cond. No.                     4.01e+03\n",
      "==============================================================================\n",
      "\n",
      "Notes:\n",
      "[1] Standard Errors assume that the covariance matrix of the errors is correctly specified.\n",
      "[2] The condition number is large, 4.01e+03. This might indicate that there are\n",
      "strong multicollinearity or other numerical problems.\n"
     ]
    }
   ],
   "source": [
    "import statsmodels.api as sm\n",
    "\n",
    "# Create sample data\n",
    "LTS = df['LTS']  # First independent variable\n",
    "DTS = df['DTS']  # Second independent variable\n",
    "MD = df['Modified Duration'] #Third independent variable\n",
    "y = df['Return']  # Dependent variable with noise\n",
    "\n",
    "# Add a constant term to the independent variables\n",
    "X = sm.add_constant(np.column_stack((LTS, DTS, MD)))\n",
    "\n",
    "# Fit the OLS model\n",
    "model = sm.OLS(y, X, method='sqrt_lasso')\n",
    "results = model.fit()\n",
    "\n",
    "# Print the regression results\n",
    "print(results.summary())"
   ]
  },
  {
   "cell_type": "code",
   "execution_count": null,
   "id": "d36061cd",
   "metadata": {},
   "outputs": [],
   "source": []
  }
 ],
 "metadata": {
  "kernelspec": {
   "display_name": "Python 3",
   "language": "python",
   "name": "python3"
  },
  "language_info": {
   "codemirror_mode": {
    "name": "ipython",
    "version": 3
   },
   "file_extension": ".py",
   "mimetype": "text/x-python",
   "name": "python",
   "nbconvert_exporter": "python",
   "pygments_lexer": "ipython3",
   "version": "3.6.13"
  }
 },
 "nbformat": 4,
 "nbformat_minor": 5
}
